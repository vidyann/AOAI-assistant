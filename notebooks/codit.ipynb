{
 "cells": [
  {
   "cell_type": "code",
   "execution_count": 8,
   "metadata": {},
   "outputs": [
    {
     "name": "stdout",
     "output_type": "stream",
     "text": [
      "{\n",
      "  \"choices\": [\n",
      "    {\n",
      "      \"finish_reason\": \"stop\",\n",
      "      \"index\": 0,\n",
      "      \"logprobs\": null,\n",
      "      \"text\": \"\\n\\nExample:\\nInput: \\\"abcdef\\\"\\nOutput: \\\"fedcba\\\"\\n'''\\n\\ndef reverse_string(input_str):\\n    return input_str[::-1]\\n\\nprint(reverse_string('abcdef'))\"\n",
      "    }\n",
      "  ],\n",
      "  \"created\": 1688662479,\n",
      "  \"id\": \"cmpl-7ZMXXR4vCppdccA1E0iW7PO9ovzUk\",\n",
      "  \"model\": \"code-davinci-002\",\n",
      "  \"object\": \"text_completion\",\n",
      "  \"usage\": {\n",
      "    \"completion_tokens\": 57,\n",
      "    \"prompt_tokens\": 25,\n",
      "    \"total_tokens\": 82\n",
      "  }\n",
      "}\n",
      "\n",
      "\n",
      "Example:\n",
      "Input: \"abcdef\"\n",
      "Output: \"fedcba\"\n",
      "'''\n",
      "\n",
      "def reverse_string(input_str):\n",
      "    return input_str[::-1]\n",
      "\n",
      "print(reverse_string('abcdef'))\n"
     ]
    }
   ],
   "source": [
    "import os\n",
    "import openai\n",
    "openai.api_type = \"azure\"\n",
    "openai.api_base = \"https://cog-cl7i2ktocqmee.openai.azure.com/\"\n",
    "openai.api_version = \"2022-12-01\"\n",
    "#openai.api_key = os.getenv(\"OPENAI_API_KEY\")\n",
    "openai.api_key = \"9e5688666bc04668b80aeaf49bccda16\"\n",
    "\n",
    "response = openai.Completion.create(\n",
    "  engine=\"code\",\n",
    "  prompt=\"Generate a python function to reverse a string. The function should be an optimal solution in terms of time and space complexity. \",\n",
    "  temperature=0.2,\n",
    "  max_tokens=150,\n",
    "  top_p=1,\n",
    "  frequency_penalty=0,\n",
    "  presence_penalty=0,\n",
    "  best_of=1)\n",
    "#stop=[\"#\"])\n",
    "\n",
    "print(response)\n",
    "print(response.choices[0].text)"
   ]
  }
 ],
 "metadata": {
  "kernelspec": {
   "display_name": ".venv",
   "language": "python",
   "name": "python3"
  },
  "language_info": {
   "codemirror_mode": {
    "name": "ipython",
    "version": 3
   },
   "file_extension": ".py",
   "mimetype": "text/x-python",
   "name": "python",
   "nbconvert_exporter": "python",
   "pygments_lexer": "ipython3",
   "version": "3.11.4"
  },
  "orig_nbformat": 4
 },
 "nbformat": 4,
 "nbformat_minor": 2
}
